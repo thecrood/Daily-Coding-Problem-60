{
 "cells": [
  {
   "cell_type": "markdown",
   "id": "b9c98000",
   "metadata": {},
   "source": [
    "# Daily Coding Problem 60"
   ]
  },
  {
   "cell_type": "raw",
   "id": "f67a945c",
   "metadata": {},
   "source": [
    "This problem was asked by Facebook.\n",
    "\n",
    "Given a multiset of integers, return whether it can be partitioned into two subsets whose sums are the same.\n",
    "\n",
    "For example, given the multiset {15, 5, 20, 10, 35, 15, 10}, it would return true, since we can split it up into {15, 5, 10, 15, 10} and {20, 35}, which both add up to 55.\n",
    "\n",
    "Given the multiset {15, 5, 20, 10, 35}, it would return false, since we can't split it up into two subsets that add up to the same sum."
   ]
  },
  {
   "cell_type": "markdown",
   "id": "1e0da0d0",
   "metadata": {},
   "source": [
    "# Solution\n",
    "\n",
    "Notice that we've reduced the problem into finding a subset of integers that add up to k / 2, which is exactly the same Daily Coding Problem #42: finding a subset of integers that sum up to k (a different k).\n",
    "\n",
    "Recall that we solved that problem by created a matrix of size len(nums) + 1 by k + 1, and then using dynamic programming to fill up the matrix. We can something similar here, except we'll use our k / 2 as our target.\n",
    "\n",
    "Each entry A[i][j] in our matrix will represent whether or not we can make the integer i with the elements of our set from 0 to j. So we'll do the following:\n",
    "\n",
    " - Create a matrix of size k + 1 by len(s) + 1 of booleans (all initialized to False).\n",
    " - Initialize the top row to True, since we can make 0 with anything (by not picking anything)\n",
    " - Initialize the left column to False (except for the one in the first row), since we can't make anything other      than 0 with nothing\n",
    " - Iterate over the matrix from top-to-bottom, then left-to-right:\n",
    "      - At each index A[i][j], look at A[i][j - 1] or A[i - last][j - 1] and set to True if any are true.\n",
    " - Return the value at the bottom-right of the matrix."
   ]
  },
  {
   "cell_type": "code",
   "execution_count": 5,
   "id": "c1009edb",
   "metadata": {},
   "outputs": [
    {
     "name": "stdout",
     "output_type": "stream",
     "text": [
      "False\n"
     ]
    }
   ],
   "source": [
    "def partition(s):\n",
    "    k = sum(s)\n",
    "    if k % 2 != 0:\n",
    "        return False\n",
    "    k_over_two = k // 2\n",
    "\n",
    "    A = [[False for _ in range(len(s) + 1)] for _ in range(k_over_two + 1)]\n",
    "\n",
    "    for j in range(len(s) + 1):\n",
    "        A[0][j] = True\n",
    "\n",
    "    for i in range(1, k_over_two + 1):\n",
    "        A[i][0] = False\n",
    "\n",
    "    for i in range(1, k_over_two + 1):\n",
    "        for j in range(1, len(s) + 1):\n",
    "            using_last = i - s[j - 1]\n",
    "            if using_last >= 0:\n",
    "                A[i][j] = A[i][j - 1] or A[using_last][j - 1]\n",
    "            else:\n",
    "                A[i][j] = A[i][j - 1]\n",
    "    return A[-1][-1]\n",
    "\n",
    "print(partition({15, 5, 20, 10, 35}))"
   ]
  },
  {
   "cell_type": "markdown",
   "id": "d4b08a20",
   "metadata": {},
   "source": [
    "This will take O(K * N) time and space, just like in the knapsack problem."
   ]
  },
  {
   "cell_type": "code",
   "execution_count": null,
   "id": "04e9cd88",
   "metadata": {},
   "outputs": [],
   "source": []
  }
 ],
 "metadata": {
  "kernelspec": {
   "display_name": "Python 3 (ipykernel)",
   "language": "python",
   "name": "python3"
  },
  "language_info": {
   "codemirror_mode": {
    "name": "ipython",
    "version": 3
   },
   "file_extension": ".py",
   "mimetype": "text/x-python",
   "name": "python",
   "nbconvert_exporter": "python",
   "pygments_lexer": "ipython3",
   "version": "3.8.10"
  }
 },
 "nbformat": 4,
 "nbformat_minor": 5
}
